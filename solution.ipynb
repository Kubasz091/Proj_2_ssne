{
 "cells": [
  {
   "cell_type": "markdown",
   "metadata": {},
   "source": [
    "# Preprocessing danych"
   ]
  },
  {
   "cell_type": "code",
   "execution_count": null,
   "metadata": {},
   "outputs": [],
   "source": [
    "import csv"
   ]
  },
  {
   "cell_type": "code",
   "execution_count": 35,
   "metadata": {},
   "outputs": [
    {
     "name": "stdout",
     "output_type": "stream",
     "text": [
      "cheap:  0  -  100000\n",
      "average:  100000  -  350000\n",
      "expensive:  350000  -  inf\n"
     ]
    }
   ],
   "source": [
    "money = 100000\n",
    "debt = 250000\n",
    "\n",
    "print(\"cheap: \", 0, \" - \",money)\n",
    "print(\"average: \", money, \" - \", debt+money)\n",
    "print(\"expensive: \", debt+money, \" - \", \"inf\")"
   ]
  },
  {
   "cell_type": "markdown",
   "metadata": {},
   "source": [
    "# Initial data viewing"
   ]
  },
  {
   "cell_type": "code",
   "execution_count": 24,
   "metadata": {},
   "outputs": [
    {
     "name": "stdout",
     "output_type": "stream",
     "text": [
      "SalePrice :  ['141592', '51327', '48672']\n",
      "YearBuilt :  ['2006', '1985', '1985']\n",
      "Size(sqf) :  ['814', '587', '587']\n",
      "Floor :  ['3', '8', '6']\n",
      "HallwayType :  ['terraced', 'corridor', 'corridor']\n",
      "HeatingType :  ['individual_heating', 'individual_heating', 'individual_heating']\n",
      "AptManageType :  ['management_in_trust', 'self_management', 'self_management']\n",
      "N_Parkinglot(Ground) :  ['111.0', '80.0', '80.0']\n",
      "N_Parkinglot(Basement) :  ['184.0', '76.0', '76.0']\n",
      "TimeToBusStop :  ['5min~10min', '0~5min', '0~5min']\n",
      "TimeToSubway :  ['10min~15min', '5min~10min', '5min~10min']\n",
      "N_manager :  ['3.0', '2.0', '2.0']\n",
      "N_elevators :  ['0.0', '2.0', '2.0']\n",
      "SubwayStation :  ['Kyungbuk_uni_hospital', 'Daegu', 'Daegu']\n",
      "N_FacilitiesInApt :  ['5', '3', '3']\n",
      "N_FacilitiesNearBy(Total) :  ['6.0', '12.0', '12.0']\n",
      "N_SchoolNearBy(Total) :  ['9.0', '4.0', '4.0']\n"
     ]
    }
   ],
   "source": [
    "# load data from csv\n",
    "with open('zadanie_studenci/train_data.csv', 'r') as f:\n",
    "    reader = csv.reader(f)\n",
    "    data = list(reader)\n",
    "\n",
    "columns_with_Samples = {}\n",
    "for i in range(len(data[0])):\n",
    "    columns_with_Samples[data[0][i]] = [data[1][i], data[2][i], data[3][i]]\n",
    "\n",
    "for columns, vals in columns_with_Samples.items():\n",
    "    print(columns,\": \", vals)"
   ]
  },
  {
   "cell_type": "code",
   "execution_count": 19,
   "metadata": {},
   "outputs": [
    {
     "name": "stdout",
     "output_type": "stream",
     "text": [
      "N_Parkinglot(Ground):  111.0 80.0 80.0\n",
      "False\n",
      "False\n"
     ]
    }
   ],
   "source": [
    "idx = data[0].index(\"N_Parkinglot(Ground)\")\n",
    "print(\"N_Parkinglot(Ground): \", data[1][idx], data[2][idx], data[3][idx])\n",
    "\n",
    "print(data[1][idx].split(\".\")[1] != '0')\n",
    "print(data[1][idx].isdigit())"
   ]
  },
  {
   "cell_type": "code",
   "execution_count": 22,
   "metadata": {},
   "outputs": [
    {
     "name": "stdout",
     "output_type": "stream",
     "text": [
      "SalePrice  has type:  int\n",
      "YearBuilt  has type:  int\n",
      "Size(sqf)  has type:  int\n",
      "Floor  has type:  int\n",
      "HallwayType  has type:  string\n",
      "HeatingType  has type:  string\n",
      "AptManageType  has type:  string\n",
      "N_Parkinglot(Ground)  has type:  int\n",
      "N_Parkinglot(Basement)  has type:  int\n",
      "TimeToBusStop  has type:  string\n",
      "TimeToSubway  has type:  string\n",
      "N_manager  has type:  int\n",
      "N_elevators  has type:  int\n",
      "SubwayStation  has type:  string\n",
      "N_FacilitiesInApt  has type:  int\n",
      "N_FacilitiesNearBy(Total)  has type:  int\n",
      "N_SchoolNearBy(Total)  has type:  int\n"
     ]
    }
   ],
   "source": [
    "columns_with_types = {}\n",
    "\n",
    "for i in range(len(data[0])):\n",
    "    column = data[0][i]\n",
    "    columns_vals = [data[x][i] for x in range(1, len(data))]\n",
    "    # check for nones\n",
    "    if None in columns_vals:\n",
    "        print(column, \" has None values\")\n",
    "        continue\n",
    "    has_comma = ['.' in x for x in columns_vals]\n",
    "    types = []\n",
    "    for n, x in enumerate(columns_vals):\n",
    "        if has_comma[n]:\n",
    "            if x.split(\".\")[1] == '0':\n",
    "                types.append(\"int\")\n",
    "            else:\n",
    "                types.append(\"float\")\n",
    "        elif x.isdigit():\n",
    "            types.append(\"int\")\n",
    "        else:\n",
    "            types.append(\"string\")\n",
    "    #get unique types\n",
    "    unique_types = set(types)\n",
    "    if len(unique_types) > 1:\n",
    "        print(column, \" has mixed types\")\n",
    "        continue\n",
    "    else:\n",
    "        type_ = unique_types.pop()\n",
    "        print(column, \" has type: \", type_)\n",
    "        columns_with_Samples[column].append(type_)"
   ]
  },
  {
   "cell_type": "code",
   "execution_count": 23,
   "metadata": {},
   "outputs": [
    {
     "name": "stdout",
     "output_type": "stream",
     "text": [
      "Numerical columns:  ['SalePrice', 'YearBuilt', 'Size(sqf)', 'Floor', 'N_Parkinglot(Ground)', 'N_Parkinglot(Basement)', 'N_manager', 'N_elevators', 'N_FacilitiesInApt', 'N_FacilitiesNearBy(Total)', 'N_SchoolNearBy(Total)']\n",
      "Categorical columns:  ['HallwayType', 'HeatingType', 'AptManageType', 'TimeToBusStop', 'TimeToSubway', 'SubwayStation']\n"
     ]
    }
   ],
   "source": [
    "numerical_columns = []\n",
    "categorical_columns = []\n",
    "\n",
    "for column, vals in columns_with_Samples.items():\n",
    "    if vals[-1] == \"int\" or vals[-1] == \"float\":\n",
    "        numerical_columns.append(column)\n",
    "    else:\n",
    "        categorical_columns.append(column)\n",
    "\n",
    "print(\"Numerical columns: \", numerical_columns)\n",
    "print(\"Categorical columns: \", categorical_columns)"
   ]
  },
  {
   "cell_type": "code",
   "execution_count": 30,
   "metadata": {},
   "outputs": [
    {
     "name": "stdout",
     "output_type": "stream",
     "text": [
      "HallwayType  has unique values:  {'terraced': 2485, 'corridor': 445, 'mixed': 1194}\n",
      "HeatingType  has unique values:  {'individual_heating': 3938, 'central_heating': 186}\n",
      "AptManageType  has unique values:  {'management_in_trust': 3869, 'self_management': 255}\n",
      "TimeToBusStop  has unique values:  {'5min~10min': 938, '0~5min': 3148, '10min~15min': 38}\n",
      "TimeToSubway  has unique values:  {'10min~15min': 526, '5min~10min': 792, '0-5min': 1960, '15min~20min': 682, 'no_bus_stop_nearby': 164}\n",
      "SubwayStation  has unique values:  {'Kyungbuk_uni_hospital': 1125, 'Daegu': 62, 'Sin-nam': 468, 'Myung-duk': 1065, 'Chil-sung-market': 85, 'Bangoge': 512, 'Banwoldang': 531, 'no_subway_nearby': 276}\n"
     ]
    }
   ],
   "source": [
    "for colm in categorical_columns:\n",
    "    idx = data[0].index(colm)\n",
    "    col_vals = [data[x][idx] for x in range(1, len(data))]\n",
    "    unique_vals = set(col_vals)\n",
    "    counts = {}\n",
    "    for val in col_vals:\n",
    "        if val not in counts:\n",
    "            counts[val] = 1\n",
    "        else:\n",
    "            counts[val] += 1\n",
    "    print(colm, \" has unique values: \", counts)"
   ]
  },
  {
   "cell_type": "code",
   "execution_count": 37,
   "metadata": {},
   "outputs": [
    {
     "name": "stdout",
     "output_type": "stream",
     "text": [
      "Target counts:  {'average': 2998, 'cheap': 556, 'expensive': 570}\n",
      "Max target:  585840\n",
      "Min target:  34070\n"
     ]
    }
   ],
   "source": [
    "targets = [int(data[x][0]) for x in range(1, len(data))]\n",
    "categorized_targets = []\n",
    "max_target = 0\n",
    "min_target = 1000000000\n",
    "\n",
    "for target in targets:\n",
    "    if target > max_target:\n",
    "        max_target = target\n",
    "    if target < min_target:\n",
    "        min_target = target\n",
    "\n",
    "\n",
    "    if target < money:\n",
    "        categorized_targets.append('cheap')\n",
    "    elif target < debt+money:\n",
    "        categorized_targets.append('average')\n",
    "    else:\n",
    "        categorized_targets.append('expensive')\n",
    "\n",
    "target_counts = {}\n",
    "\n",
    "for target in categorized_targets:\n",
    "    if target not in target_counts:\n",
    "        target_counts[target] = 1\n",
    "    else:\n",
    "        target_counts[target] += 1\n",
    "\n",
    "print(\"Target counts: \", target_counts)\n",
    "print(\"Max target: \", max_target)\n",
    "print(\"Min target: \", min_target)"
   ]
  },
  {
   "cell_type": "markdown",
   "metadata": {},
   "source": [
    "# With this knowledge we start data preprocessing\n",
    "\n",
    "- Plan is like this: for now to leave the numerical vals as they are and to just convert the data to ints\n",
    "- for coulumns TimeToBusStop, TimeToSubway do index encoding, as is thinkt that actually it will be good for the model to have a correlation that 10-15 minutes is closer to 5-10mins then 0-5 mins\n",
    "- "
   ]
  },
  {
   "cell_type": "code",
   "execution_count": null,
   "metadata": {},
   "outputs": [],
   "source": [
    "numerical_columns = []\n",
    "categorical_columns = []"
   ]
  }
 ],
 "metadata": {
  "kernelspec": {
   "display_name": ".venv",
   "language": "python",
   "name": "python3"
  },
  "language_info": {
   "codemirror_mode": {
    "name": "ipython",
    "version": 3
   },
   "file_extension": ".py",
   "mimetype": "text/x-python",
   "name": "python",
   "nbconvert_exporter": "python",
   "pygments_lexer": "ipython3",
   "version": "3.12.3"
  }
 },
 "nbformat": 4,
 "nbformat_minor": 2
}
